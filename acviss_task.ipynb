{
  "nbformat": 4,
  "nbformat_minor": 0,
  "metadata": {
    "colab": {
      "provenance": []
    },
    "kernelspec": {
      "name": "python3",
      "display_name": "Python 3"
    },
    "language_info": {
      "name": "python"
    }
  },
  "cells": [
    {
      "cell_type": "markdown",
      "source": [
        "Q1"
      ],
      "metadata": {
        "id": "LkrUIoVhDpzy"
      }
    },
    {
      "cell_type": "code",
      "execution_count": 4,
      "metadata": {
        "colab": {
          "base_uri": "https://localhost:8080/"
        },
        "id": "lc56sovKDlel",
        "outputId": "3c0cbc78-642d-42ff-8063-34c81dc9723a"
      },
      "outputs": [
        {
          "output_type": "stream",
          "name": "stdout",
          "text": [
            "olleh\n"
          ]
        }
      ],
      "source": [
        "def reverse_string(s):\n",
        "    return s[::-1]\n",
        "\n",
        "# SAMPLE\n",
        "print(reverse_string(\"hello\"))\n",
        "\n",
        "# Output:\n",
        "# \"olleh\""
      ]
    },
    {
      "cell_type": "markdown",
      "source": [
        "Q2"
      ],
      "metadata": {
        "id": "P7L18VV-DosL"
      }
    },
    {
      "cell_type": "code",
      "source": [
        "def factorial(n):\n",
        "    if n == 0:\n",
        "        return 1\n",
        "    else:\n",
        "        return n * factorial(n - 1)\n",
        "\n",
        "# Example usage\n",
        "print(factorial(5))  # Output: 120\n"
      ],
      "metadata": {
        "colab": {
          "base_uri": "https://localhost:8080/"
        },
        "id": "Sa0awWbUDnxK",
        "outputId": "73f4a56f-f378-41ed-f28e-e0a138941912"
      },
      "execution_count": 5,
      "outputs": [
        {
          "output_type": "stream",
          "name": "stdout",
          "text": [
            "120\n"
          ]
        }
      ]
    },
    {
      "cell_type": "markdown",
      "source": [
        "Q3"
      ],
      "metadata": {
        "id": "2fDNXuGNDriN"
      }
    },
    {
      "cell_type": "code",
      "source": [
        "def sort_list(lst):\n",
        "    return sorted(lst)\n",
        "\n",
        "# Example usage\n",
        "print(sort_list([3, 1, 4, 1, 5, 9]))  # Output: [1, 1, 3, 4, 5, 9]\n"
      ],
      "metadata": {
        "colab": {
          "base_uri": "https://localhost:8080/"
        },
        "id": "T4NUm91gDs6P",
        "outputId": "7ff4cb31-029c-4f92-e368-fa063e817fe0"
      },
      "execution_count": 6,
      "outputs": [
        {
          "output_type": "stream",
          "name": "stdout",
          "text": [
            "[1, 1, 3, 4, 5, 9]\n"
          ]
        }
      ]
    },
    {
      "cell_type": "markdown",
      "source": [
        "Q4"
      ],
      "metadata": {
        "id": "Uykbz5KZDuy5"
      }
    },
    {
      "cell_type": "code",
      "source": [
        "import pandas as pd\n",
        "file_path=\"diabetes.csv\"\n",
        "def analyze_csv(file_path):\n",
        "    df = pd.read_csv(file_path)\n",
        "\n",
        "    # Handle missing values\n",
        "    df.fillna(method='ffill', inplace=True)\n",
        "\n",
        "    # Example of standardizing a column (converting to lowercase)\n",
        "    if 'column_name' in df.columns:\n",
        "        df['column_name'] = df['column_name'].str.lower()\n",
        "\n",
        "    # Basic analysis\n",
        "    mean_value = df.mean()\n",
        "    median_value = df.median()\n",
        "    mode_value = df.mode().iloc[0]\n",
        "\n",
        "    return mean_value, median_value, mode_value\n",
        "\n",
        "# Example usage\n",
        "print(analyze_csv(file_path))\n"
      ],
      "metadata": {
        "colab": {
          "base_uri": "https://localhost:8080/"
        },
        "id": "TY7C8CtxDwh6",
        "outputId": "3f2ca1de-d9b8-4cd7-d6fc-5a5b6fbbde28"
      },
      "execution_count": 10,
      "outputs": [
        {
          "output_type": "stream",
          "name": "stdout",
          "text": [
            "(Pregnancies                   3.845052\n",
            "Glucose                     120.894531\n",
            "BloodPressure                69.105469\n",
            "SkinThickness                20.536458\n",
            "Insulin                      79.799479\n",
            "BMI                          31.992578\n",
            "DiabetesPedigreeFunction      0.471876\n",
            "Age                          33.240885\n",
            "Outcome                       0.348958\n",
            "dtype: float64, Pregnancies                   3.0000\n",
            "Glucose                     117.0000\n",
            "BloodPressure                72.0000\n",
            "SkinThickness                23.0000\n",
            "Insulin                      30.5000\n",
            "BMI                          32.0000\n",
            "DiabetesPedigreeFunction      0.3725\n",
            "Age                          29.0000\n",
            "Outcome                       0.0000\n",
            "dtype: float64, Pregnancies                  1.000\n",
            "Glucose                     99.000\n",
            "BloodPressure               70.000\n",
            "SkinThickness                0.000\n",
            "Insulin                      0.000\n",
            "BMI                         32.000\n",
            "DiabetesPedigreeFunction     0.254\n",
            "Age                         22.000\n",
            "Outcome                      0.000\n",
            "Name: 0, dtype: float64)\n"
          ]
        },
        {
          "output_type": "stream",
          "name": "stderr",
          "text": [
            "<ipython-input-10-d09281ee831a>:7: FutureWarning: DataFrame.fillna with 'method' is deprecated and will raise in a future version. Use obj.ffill() or obj.bfill() instead.\n",
            "  df.fillna(method='ffill', inplace=True)\n"
          ]
        }
      ]
    },
    {
      "cell_type": "markdown",
      "source": [
        "Q5"
      ],
      "metadata": {
        "id": "GwnhubKODyTQ"
      }
    },
    {
      "cell_type": "code",
      "source": [
        "import json\n",
        "\n",
        "def process_json(file_path):\n",
        "    with open(file_path, 'r') as file:\n",
        "        data = json.load(file)\n",
        "\n",
        "    # Example: Find the maximum value in a list of numbers under a specific key\n",
        "    if 'numbers' in data:\n",
        "        max_value = max(data['numbers'])\n",
        "        return max_value\n",
        "    return None\n",
        "\n",
        "# Example usage\n",
        "max_val = process_json('j1.json')\n",
        "print(max_val)\n"
      ],
      "metadata": {
        "colab": {
          "base_uri": "https://localhost:8080/"
        },
        "id": "pyBOrjAUDzFD",
        "outputId": "8f63504e-4f5e-48f7-b938-120cd2e1dbbd"
      },
      "execution_count": 14,
      "outputs": [
        {
          "output_type": "stream",
          "name": "stdout",
          "text": [
            "88\n"
          ]
        }
      ]
    },
    {
      "cell_type": "markdown",
      "source": [
        "Q6"
      ],
      "metadata": {
        "id": "lr8jfLx-D07g"
      }
    },
    {
      "cell_type": "code",
      "source": [
        "def binary_search(arr, target):\n",
        "    low, high = 0, len(arr) - 1\n",
        "\n",
        "    while low <= high:\n",
        "        mid = (low + high) // 2\n",
        "        if arr[mid] == target:\n",
        "            return mid\n",
        "        elif arr[mid] < target:\n",
        "            low = mid + 1\n",
        "        else:\n",
        "            high = mid - 1\n",
        "\n",
        "    return -1  # Target not found\n",
        "\n",
        "# Example usage\n",
        "print(binary_search([1, 2, 3, 4, 5], 3))  # Output: 2\n"
      ],
      "metadata": {
        "colab": {
          "base_uri": "https://localhost:8080/"
        },
        "id": "4FjubbFTD1qY",
        "outputId": "fd5c846a-06f7-4508-ad8f-60c6ead36c3c"
      },
      "execution_count": 12,
      "outputs": [
        {
          "output_type": "stream",
          "name": "stdout",
          "text": [
            "2\n"
          ]
        }
      ]
    },
    {
      "cell_type": "markdown",
      "source": [
        "Q7"
      ],
      "metadata": {
        "id": "L6qdd0kiD3qb"
      }
    },
    {
      "cell_type": "code",
      "source": [
        "#Follow link below for the Q7 for weather application using api\n",
        "# https://sites.google.com/view/acviss-task/home"
      ],
      "metadata": {
        "id": "Mx6n91iuD3WT"
      },
      "execution_count": null,
      "outputs": []
    },
    {
      "cell_type": "markdown",
      "source": [
        "Q8"
      ],
      "metadata": {
        "id": "gN1TI8x4D7Uf"
      }
    },
    {
      "cell_type": "code",
      "source": [
        "import sqlite3\n",
        "\n",
        "def interact_with_database():\n",
        "    # Connect to SQLite database (or create it)\n",
        "    conn = sqlite3.connect('example.db')\n",
        "    cursor = conn.cursor()\n",
        "\n",
        "    # Create a table\n",
        "    cursor.execute('''CREATE TABLE IF NOT EXISTS users (id INTEGER PRIMARY KEY, name TEXT, age INTEGER)''')\n",
        "\n",
        "    # Insert data\n",
        "    cursor.execute(\"INSERT INTO users (name, age) VALUES ('Alice', 25)\")\n",
        "    cursor.execute(\"INSERT INTO users (name, age) VALUES ('Bob', 30)\")\n",
        "\n",
        "    # Commit the transaction\n",
        "    conn.commit()\n",
        "\n",
        "    # Retrieve and print data\n",
        "    cursor.execute(\"SELECT * FROM users\")\n",
        "    print(cursor.fetchall())\n",
        "\n",
        "    # Close the connection\n",
        "    conn.close()\n",
        "\n",
        "# Example usage\n",
        "interact_with_database()\n"
      ],
      "metadata": {
        "colab": {
          "base_uri": "https://localhost:8080/"
        },
        "id": "M5khRq32D67_",
        "outputId": "788dce82-3b46-4e5a-c5d0-5ad4354d1d38"
      },
      "execution_count": 16,
      "outputs": [
        {
          "output_type": "stream",
          "name": "stdout",
          "text": [
            "[(1, 'Alice', 25), (2, 'Bob', 30)]\n"
          ]
        }
      ]
    }
  ]
}
